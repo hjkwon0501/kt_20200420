{
 "cells": [
  {
   "cell_type": "code",
   "execution_count": 42,
   "metadata": {},
   "outputs": [
    {
     "name": "stdout",
     "output_type": "stream",
     "text": [
      "[{'개봉일': '2020.02.19', '관객수': '25647명', '제목': '1917', '평점': '7.3'},\n",
      " {'개봉일': '2016.12.07', '관객수': '22914명', '제목': '라라랜드', '평점': '8.0'},\n",
      " {'개봉일': '2020.04.15', '관객수': '20627명', '제목': '서치 아웃', '평점': '5.8'},\n",
      " {'개봉일': '2020.04.15', '관객수': '18992명', '제목': '건즈 아킴보', '평점': '5.5'},\n",
      " {'개봉일': '2020.04.08', '관객수': '12070명', '제목': '오픈 더 도어 ', '평점': '6.3'},\n",
      " {'개봉일': '2020.04.01', '관객수': '11879명', '제목': '엽문4: 더 파이널', '평점': '6.5'},\n",
      " {'개봉일': '2020.04.15', '관객수': '10666명', '제목': '비밀정보원: 인 더 프리즌 ', '평점': '7.6'},\n",
      " {'개봉일': '2020.04.15', '관객수': '8160명', '제목': '유령선', '평점': '9.0'},\n",
      " {'개봉일': '2020.03.25', '관객수': '6013명', '제목': '주디', '평점': '8.1'},\n",
      " {'개봉일': '2020.04.15', '관객수': '5898명', '제목': '라라걸', '평점': '9.6'}]\n"
     ]
    }
   ],
   "source": [
    "import requests\n",
    "from bs4 import BeautifulSoup\n",
    "import re\n",
    "import pprint\n",
    "\n",
    "def movies():\n",
    "    res = requests.get(\"https://movie.daum.net/boxoffice/weekly\")\n",
    "    soup = BeautifulSoup(res.text, 'html.parser')\n",
    "    regex = re.compile(\"주간관객 (\\d+명)\\n개봉일\\n([0-9]{4}.[0-9]{2}.[0-9]{2})\")\n",
    "    movies=[]\n",
    "\n",
    "    for tag in soup.select('.desc_boxthumb'):\n",
    "        dict={}\n",
    "        dict[\"제목\"] = tag.select(\".link_g\")[0].get_text()\n",
    "        dict[\"평점\"] = tag.select(\".emph_grade\")[0].get_text()\n",
    "        dict[\"관객수\"] = regex.findall(tag.select(\".list_state\")[0].get_text())[0][0]\n",
    "        dict[\"개봉일\"] = regex.findall(tag.select(\".list_state\")[0].get_text())[0][1]\n",
    "        movies.append(dict)\n",
    "\n",
    "pprint.pprint(movies)"
   ]
  },
  {
   "cell_type": "code",
   "execution_count": 51,
   "metadata": {},
   "outputs": [
    {
     "name": "stdout",
     "output_type": "stream",
     "text": [
      "[<ol class=\"cd_list\">\n",
      "<li class=\"cd_item\">\n",
      "<a class=\"cd_a\" data-clk=\"chartkwd1\" href=\"https://m.search.naver.com/search.naver?where=m&amp;sm=mkw_lve.agallgrpmamsi0en0sp0&amp;query=%EA%B9%80%EC%9C%A0%EC%A7%84pd\">\n",
      "<span class=\"cd_num\">1</span>\n",
      "<span class=\"cd_tit_wrap\">\n",
      "<span class=\"cd_tit\">김유진pd</span>\n",
      "<span class=\"cd_tit_sub\"><span class=\"blind\">유사검색어</span>이원일 김유진, 김유진 학폭, 김유진pd 나이</span>\n",
      "</span>\n",
      "</a>\n",
      "</li>\n",
      "<li class=\"cd_item\">\n",
      "<a class=\"cd_a\" data-clk=\"chartkwd2\" href=\"https://m.search.naver.com/search.naver?where=m&amp;sm=mkw_lve.agallgrpmamsi0en0sp0&amp;query=%EC%9D%B4%EC%9B%90%EC%9D%BC\">\n",
      "<span class=\"cd_num\">2</span>\n",
      "<span class=\"cd_tit_wrap\">\n",
      "<span class=\"cd_tit\">이원일</span>\n",
      "<span class=\"cd_tit_sub\"><span class=\"blind\">유사검색어</span>이원일 셰프</span>\n",
      "</span>\n",
      "</a>\n",
      "</li>\n",
      "<li class=\"cd_item\">\n",
      "<a class=\"cd_a\" data-clk=\"chartkwd3\" href=\"https://m.search.naver.com/search.naver?where=m&amp;sm=mkw_lve.agallgrpmamsi0en0sp0&amp;query=%EA%B9%80%EC%9C%A0%EC%A7%84\">\n",
      "<span class=\"cd_num\">3</span>\n",
      "<span class=\"cd_tit_wrap\">\n",
      "<span class=\"cd_tit\">김유진</span>\n",
      "</span>\n",
      "</a>\n",
      "</li>\n",
      "<li class=\"cd_item\">\n",
      "<a class=\"cd_a\" data-clk=\"chartkwd4\" href=\"https://m.search.naver.com/search.naver?where=m&amp;sm=mkw_lve.agallgrpmamsi0en0sp0&amp;query=%EC%A0%9C%EC%9D%B4%EB%AF%B8\">\n",
      "<span class=\"cd_num\">4</span>\n",
      "<span class=\"cd_tit_wrap\">\n",
      "<span class=\"cd_tit\">제이미</span>\n",
      "</span>\n",
      "</a>\n",
      "</li>\n",
      "<li class=\"cd_item\">\n",
      "<a class=\"cd_a\" data-clk=\"chartkwd5\" href=\"https://m.search.naver.com/search.naver?where=m&amp;sm=mkw_lve.agallgrpmamsi0en0sp0&amp;query=%EC%9C%84%EA%B7%BC%EC%9A%B0\">\n",
      "<span class=\"cd_num\">5</span>\n",
      "<span class=\"cd_tit_wrap\">\n",
      "<span class=\"cd_tit\">위근우</span>\n",
      "</span>\n",
      "</a>\n",
      "</li>\n",
      "<li class=\"cd_item\">\n",
      "<a class=\"cd_a\" data-clk=\"chartkwd6\" href=\"https://m.search.naver.com/search.naver?where=m&amp;sm=mkw_lve.agallgrpmamsi0en0sp0&amp;query=%EC%9D%B4%EC%83%81%EC%97%BD\">\n",
      "<span class=\"cd_num\">6</span>\n",
      "<span class=\"cd_tit_wrap\">\n",
      "<span class=\"cd_tit\">이상엽</span>\n",
      "</span>\n",
      "</a>\n",
      "</li>\n",
      "<li class=\"cd_item\">\n",
      "<a class=\"cd_a\" data-clk=\"chartkwd7\" href=\"https://m.search.naver.com/search.naver?where=m&amp;sm=mkw_lve.agallgrpmamsi0en0sp0&amp;query=%EB%AF%B8%EB%9E%98%ED%95%9C%EA%B5%AD%EB%8B%B9+%EA%B9%80%EC%98%88%EC%A7%80\">\n",
      "<span class=\"cd_num\">7</span>\n",
      "<span class=\"cd_tit_wrap\">\n",
      "<span class=\"cd_tit\">미래한국당 김예지</span>\n",
      "</span>\n",
      "</a>\n",
      "</li>\n",
      "<li class=\"cd_item\">\n",
      "<a class=\"cd_a\" data-clk=\"chartkwd8\" href=\"https://m.search.naver.com/search.naver?where=m&amp;sm=mkw_lve.agallgrpmamsi0en0sp0&amp;query=%EB%B0%B1%ED%98%84\">\n",
      "<span class=\"cd_num\">8</span>\n",
      "<span class=\"cd_tit_wrap\">\n",
      "<span class=\"cd_tit\">백현</span>\n",
      "</span>\n",
      "</a>\n",
      "</li>\n",
      "<li class=\"cd_item\">\n",
      "<a class=\"cd_a\" data-clk=\"chartkwd9\" href=\"https://m.search.naver.com/search.naver?where=m&amp;sm=mkw_lve.agallgrpmamsi0en0sp0&amp;query=%EB%A6%AC%EB%8B%88%EC%A7%80m\">\n",
      "<span class=\"cd_num\">9</span>\n",
      "<span class=\"cd_tit_wrap\">\n",
      "<span class=\"cd_tit\">리니지m</span>\n",
      "</span>\n",
      "</a>\n",
      "</li>\n",
      "<li class=\"cd_item\">\n",
      "<a class=\"cd_a\" data-clk=\"chartkwd10\" href=\"https://m.search.naver.com/search.naver?where=m&amp;sm=mkw_lve.agallgrpmamsi0en0sp0&amp;query=%EC%A7%80%EA%B5%AC%EC%9D%98%EB%82%A0\">\n",
      "<span class=\"cd_num\">10</span>\n",
      "<span class=\"cd_tit_wrap\">\n",
      "<span class=\"cd_tit\">지구의날</span>\n",
      "</span>\n",
      "</a>\n",
      "</li>\n",
      "<li class=\"cd_item _MM_FOLD_ITEM\" style=\"display:none;\">\n",
      "<a class=\"cd_a\" data-clk=\"chartkwd11\" href=\"https://m.search.naver.com/search.naver?where=m&amp;sm=mkw_lve.agallgrpmamsi0en0sp0&amp;query=%EA%B9%80%EC%98%88%EC%A7%80\">\n",
      "<span class=\"cd_num\">11</span>\n",
      "<span class=\"cd_tit_wrap\">\n",
      "<span class=\"cd_tit\">김예지</span>\n",
      "</span>\n",
      "</a>\n",
      "</li>\n",
      "<li class=\"cd_item _MM_FOLD_ITEM\" style=\"display:none;\">\n",
      "<a class=\"cd_a\" data-clk=\"chartkwd12\" href=\"https://m.search.naver.com/search.naver?where=m&amp;sm=mkw_lve.agallgrpmamsi0en0sp0&amp;query=%EC%8C%8D%EC%9A%A9%EC%96%91%ED%9A%8C\">\n",
      "<span class=\"cd_num\">12</span>\n",
      "<span class=\"cd_tit_wrap\">\n",
      "<span class=\"cd_tit\">쌍용양회</span>\n",
      "</span>\n",
      "</a>\n",
      "</li>\n",
      "<li class=\"cd_item _MM_FOLD_ITEM\" style=\"display:none;\">\n",
      "<a class=\"cd_a\" data-clk=\"chartkwd13\" href=\"https://m.search.naver.com/search.naver?where=m&amp;sm=mkw_lve.agallgrpmamsi0en0sp0&amp;query=%EC%A7%80%EB%A6%AC%EC%9D%98+%ED%9E%98\">\n",
      "<span class=\"cd_num\">13</span>\n",
      "<span class=\"cd_tit_wrap\">\n",
      "<span class=\"cd_tit\">지리의 힘</span>\n",
      "</span>\n",
      "</a>\n",
      "</li>\n",
      "<li class=\"cd_item _MM_FOLD_ITEM\" style=\"display:none;\">\n",
      "<a class=\"cd_a\" data-clk=\"chartkwd14\" href=\"https://m.search.naver.com/search.naver?where=m&amp;sm=mkw_lve.agallgrpmamsi0en0sp0&amp;query=%EC%82%BC%ED%91%9C%EC%8B%9C%EB%A9%98%ED%8A%B8\">\n",
      "<span class=\"cd_num\">14</span>\n",
      "<span class=\"cd_tit_wrap\">\n",
      "<span class=\"cd_tit\">삼표시멘트</span>\n",
      "</span>\n",
      "</a>\n",
      "</li>\n",
      "<li class=\"cd_item _MM_FOLD_ITEM\" style=\"display:none;\">\n",
      "<a class=\"cd_a\" data-clk=\"chartkwd15\" href=\"https://m.search.naver.com/search.naver?where=m&amp;sm=mkw_lve.agallgrpmamsi0en0sp0&amp;query=%EC%84%B1%EC%8B%A0%EC%96%91%ED%9A%8C\">\n",
      "<span class=\"cd_num\">15</span>\n",
      "<span class=\"cd_tit_wrap\">\n",
      "<span class=\"cd_tit\">성신양회</span>\n",
      "</span>\n",
      "</a>\n",
      "</li>\n",
      "<li class=\"cd_item _MM_FOLD_ITEM\" style=\"display:none;\">\n",
      "<a class=\"cd_a\" data-clk=\"chartkwd16\" href=\"https://m.search.naver.com/search.naver?where=m&amp;sm=mkw_lve.agallgrpmamsi0en0sp0&amp;query=%EB%89%B4%EB%94%9C%EC%A0%95%EC%B1%85\">\n",
      "<span class=\"cd_num\">16</span>\n",
      "<span class=\"cd_tit_wrap\">\n",
      "<span class=\"cd_tit\">뉴딜정책</span>\n",
      "</span>\n",
      "</a>\n",
      "</li>\n",
      "<li class=\"cd_item _MM_FOLD_ITEM\" style=\"display:none;\">\n",
      "<a class=\"cd_a\" data-clk=\"chartkwd17\" href=\"https://m.search.naver.com/search.naver?where=m&amp;sm=mkw_lve.agallgrpmamsi0en0sp0&amp;query=%EA%B9%80%ED%9D%AC%EC%B2%A0\">\n",
      "<span class=\"cd_num\">17</span>\n",
      "<span class=\"cd_tit_wrap\">\n",
      "<span class=\"cd_tit\">김희철</span>\n",
      "</span>\n",
      "</a>\n",
      "</li>\n",
      "<li class=\"cd_item _MM_FOLD_ITEM\" style=\"display:none;\">\n",
      "<a class=\"cd_a\" data-clk=\"chartkwd18\" href=\"https://m.search.naver.com/search.naver?where=m&amp;sm=mkw_lve.agallgrpmamsi0en0sp0&amp;query=%ED%95%9C%EC%A7%84%EC%A4%91%EA%B3%B5%EC%97%85\">\n",
      "<span class=\"cd_num\">18</span>\n",
      "<span class=\"cd_tit_wrap\">\n",
      "<span class=\"cd_tit\">한진중공업</span>\n",
      "</span>\n",
      "</a>\n",
      "</li>\n",
      "<li class=\"cd_item _MM_FOLD_ITEM\" style=\"display:none;\">\n",
      "<a class=\"cd_a\" data-clk=\"chartkwd19\" href=\"https://m.search.naver.com/search.naver?where=m&amp;sm=mkw_lve.agallgrpmamsi0en0sp0&amp;query=%EC%96%B4%EB%B0%A9%EB%8F%99+%EC%88%98%EC%86%90%EC%A7%9C%EC%9E%A5\">\n",
      "<span class=\"cd_num\">19</span>\n",
      "<span class=\"cd_tit_wrap\">\n",
      "<span class=\"cd_tit\">어방동 수손짜장</span>\n",
      "</span>\n",
      "</a>\n",
      "</li>\n",
      "<li class=\"cd_item _MM_FOLD_ITEM\" style=\"display:none;\">\n",
      "<a class=\"cd_a\" data-clk=\"chartkwd20\" href=\"https://m.search.naver.com/search.naver?where=m&amp;sm=mkw_lve.agallgrpmamsi0en0sp0&amp;query=%EB%B3%B8+%EC%96%B4%EA%B2%8C%EC%9D%B8\">\n",
      "<span class=\"cd_num\">20</span>\n",
      "<span class=\"cd_tit_wrap\">\n",
      "<span class=\"cd_tit\">본 어게인</span>\n",
      "</span>\n",
      "</a>\n",
      "</li>\n",
      "</ol>]\n"
     ]
    }
   ],
   "source": [
    "import requests\n",
    "headers = {\n",
    "    'authority': 'm.naver.com',\n",
    "    'pragma': 'no-cache',\n",
    "    'cache-control': 'no-cache',\n",
    "    'accept': 'text/html, */*; q=0.01',\n",
    "    'user-agent': 'Mozilla/5.0 (Linux; Android 6.0; Nexus 5 Build/MRA58N) AppleWebKit/537.36 (KHTML, like Gecko) Chrome/81.0.4044.113 Mobile Safari/537.36',\n",
    "    'x-requested-with': 'XMLHttpRequest',\n",
    "    'sec-fetch-site': 'same-origin',\n",
    "    'sec-fetch-mode': 'cors',\n",
    "    'sec-fetch-dest': 'empty',\n",
    "    'referer': 'https://m.naver.com/',\n",
    "    'accept-language': 'ko-KR,ko;q=0.9,en-US;q=0.8,en;q=0.7',\n",
    "    'cookie': 'NNB=QKZW2TMI6SJV4; nx_ssl=2; _fbp=fb.1.1587435898489.63673249; _ga=GA1.1.417839118.1587435899; _ga_4BKHBFKFK0=GS1.1.1587435898.1.1.1587435904.54; BMR=s=1587530000774^&r=https^%^3A^%^2F^%^2Fm.blog.naver.com^%^2Fkiddwannabe^%^2F221177292446^&r2=https^%^3A^%^2F^%^2Fwww.google.com^%^2F; _naver_usersession_=d2dJ+CBm7wH9LsincYVsng==; page_uid=Up/Cewp0JWVssO/FbLwssssssH4-125889; MM_NEW=1; NFS=2; MM_FS=fzoom; MM_width=400; MM_MF_TAB_SVC=DISCOVER; MM_h=CONTENTS; MM_m=DATA; MM_sti=m_main_dat; DATA_HIDE_RTK_OPT_DESC=1; NRTK_YES=1; DATA_RTK_OPT=20s_now; DATA_RTK_V2_OPT=20s_now; NRTK=ag^#20s_ma^#-2_gr^#0_si^#-2_en^#-2_sp^#-2',\n",
    "}\n",
    "\n",
    "params = (\n",
    "        ('more', 'N'),\n",
    "    )\n",
    "\n",
    "res = requests.get('https://m.naver.com/nvhaproxy_plus/content/template/content-realtimeCategorizedKeywordV2', headers=headers, params=params)\n",
    "soup = BeautifulSoup(res.text, 'html.parser')\n",
    "regex = re.compile(\"주간관객 (\\d+명)\\n개봉일\\n([0-9]{4}.[0-9]{2}.[0-9]{2})\")\n",
    "print(soup.select(\".cd_list\"))"
   ]
  },
  {
   "cell_type": "code",
   "execution_count": 57,
   "metadata": {},
   "outputs": [
    {
     "name": "stdout",
     "output_type": "stream",
     "text": [
      "2020-04-20^15:54:00\n"
     ]
    }
   ],
   "source": [
    "\n",
    "date=\"2020-04-20 15:54:00\".replace(\" \", \"^\")\n",
    "print(date)"
   ]
  },
  {
   "cell_type": "code",
   "execution_count": 63,
   "metadata": {},
   "outputs": [
    {
     "name": "stdout",
     "output_type": "stream",
     "text": [
      "[1, 2, 3, 4, 5, 3, 6, 7, 8, 9]\n",
      "3\n"
     ]
    }
   ],
   "source": [
    "import random\n",
    "nums_count=[0,0,0,0,0,0,0,0,0,0]\n",
    "def find_duplicated_num(nums):\n",
    "    for i in nums:\n",
    "            nums_count[i]+=1\n",
    "    return nums_count.index(2)\n",
    "    \n",
    "numbers = list(range(1,10))\n",
    "numbers.insert(random.randint(1,10),random.randint(1,10))\n",
    "print(numbers)\n",
    "    \n",
    "num = find_duplicated_num(numbers)\n",
    "print(num)"
   ]
  },
  {
   "cell_type": "code",
   "execution_count": 96,
   "metadata": {},
   "outputs": [
    {
     "name": "stdout",
     "output_type": "stream",
     "text": [
      "['신과나', '1917', '라라랜드', '엽문4', '엽문', '주디']\n"
     ]
    }
   ],
   "source": [
    " ratings = {\n",
    "        '이숙번': {'1917': 5, '엽문4': 2, '라라랜드': 3, '주디': 5},\n",
    "        '강두루': {'1917': 4, '라라랜드': 3, '신과나': 5},\n",
    "        '이고잉': {'라라랜드': 4, '엽문4': 4, '주디': 1},\n",
    "        '정원혁': {'엽문':3, '신과나': 5, '1917': 4, '주디': 2}\n",
    "    }\n",
    "dict={}\n",
    "for i in list(ratings.values()):\n",
    "    for j , k in i.items():\n",
    "        if j in dict:\n",
    "            dict[j].append(k)\n",
    "        else:\n",
    "            dict[j]=[k]\n",
    "items=sorted(dict.items(), key=lambda x:sum(x[1])/len(x[1]), reverse=True)\n",
    "print([x[0] for x in items])\n"
   ]
  },
  {
   "cell_type": "code",
   "execution_count": 2,
   "metadata": {},
   "outputs": [
    {
     "data": {
      "text/plain": [
       "['1', '0', '1', '0', '1', '0', '-', '2', '0', '2', '0', '2', '0']"
      ]
     },
     "execution_count": 2,
     "metadata": {},
     "output_type": "execute_result"
    }
   ],
   "source": [
    "jumin='101010-2020200'\n",
    "list(jumin[:-1])"
   ]
  },
  {
   "cell_type": "code",
   "execution_count": 3,
   "metadata": {},
   "outputs": [],
   "source": [
    "a=['a','b','c']\n"
   ]
  },
  {
   "cell_type": "code",
   "execution_count": 4,
   "metadata": {},
   "outputs": [],
   "source": [
    "a.remove('b')"
   ]
  },
  {
   "cell_type": "code",
   "execution_count": 5,
   "metadata": {},
   "outputs": [
    {
     "data": {
      "text/plain": [
       "['a', 'c']"
      ]
     },
     "execution_count": 5,
     "metadata": {},
     "output_type": "execute_result"
    }
   ],
   "source": [
    "a"
   ]
  },
  {
   "cell_type": "code",
   "execution_count": null,
   "metadata": {},
   "outputs": [],
   "source": []
  }
 ],
 "metadata": {
  "kernelspec": {
   "display_name": "Python 3",
   "language": "python",
   "name": "python3"
  },
  "language_info": {
   "codemirror_mode": {
    "name": "ipython",
    "version": 3
   },
   "file_extension": ".py",
   "mimetype": "text/x-python",
   "name": "python",
   "nbconvert_exporter": "python",
   "pygments_lexer": "ipython3",
   "version": "3.7.6"
  }
 },
 "nbformat": 4,
 "nbformat_minor": 4
}
